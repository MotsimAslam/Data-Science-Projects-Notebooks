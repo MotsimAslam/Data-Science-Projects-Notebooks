{
 "cells": [
  {
   "cell_type": "code",
   "execution_count": 1,
   "id": "b1124652",
   "metadata": {
    "_cell_guid": "b1076dfc-b9ad-4769-8c92-a6c4dae69d19",
    "_uuid": "8f2839f25d086af736a60e9eeb907d3b93b6e0e5",
    "execution": {
     "iopub.execute_input": "2024-04-13T18:31:15.295144Z",
     "iopub.status.busy": "2024-04-13T18:31:15.294751Z",
     "iopub.status.idle": "2024-04-13T18:31:16.363466Z",
     "shell.execute_reply": "2024-04-13T18:31:16.361733Z"
    },
    "papermill": {
     "duration": 1.079536,
     "end_time": "2024-04-13T18:31:16.366821",
     "exception": false,
     "start_time": "2024-04-13T18:31:15.287285",
     "status": "completed"
    },
    "tags": []
   },
   "outputs": [
    {
     "name": "stdout",
     "output_type": "stream",
     "text": [
      "/kaggle/input/titanic/train.csv\n",
      "/kaggle/input/titanic/test.csv\n",
      "/kaggle/input/titanic/gender_submission.csv\n"
     ]
    }
   ],
   "source": [
    "# This Python 3 environment comes with many helpful analytics libraries installed\n",
    "# It is defined by the kaggle/python Docker image: https://github.com/kaggle/docker-python\n",
    "# For example, here's several helpful packages to load\n",
    "\n",
    "import numpy as np # linear algebra\n",
    "import pandas as pd # data processing, CSV file I/O (e.g. pd.read_csv)\n",
    "\n",
    "# Input data files are available in the read-only \"../input/\" directory\n",
    "# For example, running this (by clicking run or pressing Shift+Enter) will list all files under the input directory\n",
    "\n",
    "import os\n",
    "for dirname, _, filenames in os.walk('/kaggle/input'):\n",
    "    for filename in filenames:\n",
    "        print(os.path.join(dirname, filename))\n",
    "\n",
    "# You can write up to 20GB to the current directory (/kaggle/working/) that gets preserved as output when you create a version using \"Save & Run All\" \n",
    "# You can also write temporary files to /kaggle/temp/, but they won't be saved outside of the current session"
   ]
  },
  {
   "cell_type": "markdown",
   "id": "03eb77b1",
   "metadata": {
    "papermill": {
     "duration": 0.005175,
     "end_time": "2024-04-13T18:31:16.377977",
     "exception": false,
     "start_time": "2024-04-13T18:31:16.372802",
     "status": "completed"
    },
    "tags": []
   },
   "source": [
    "## Load the Data set of train.csv and test.csv"
   ]
  },
  {
   "cell_type": "code",
   "execution_count": 2,
   "id": "0789dbc1",
   "metadata": {
    "execution": {
     "iopub.execute_input": "2024-04-13T18:31:16.390728Z",
     "iopub.status.busy": "2024-04-13T18:31:16.390213Z",
     "iopub.status.idle": "2024-04-13T18:31:16.437937Z",
     "shell.execute_reply": "2024-04-13T18:31:16.436757Z"
    },
    "papermill": {
     "duration": 0.057754,
     "end_time": "2024-04-13T18:31:16.440960",
     "exception": false,
     "start_time": "2024-04-13T18:31:16.383206",
     "status": "completed"
    },
    "tags": []
   },
   "outputs": [
    {
     "data": {
      "text/html": [
       "<div>\n",
       "<style scoped>\n",
       "    .dataframe tbody tr th:only-of-type {\n",
       "        vertical-align: middle;\n",
       "    }\n",
       "\n",
       "    .dataframe tbody tr th {\n",
       "        vertical-align: top;\n",
       "    }\n",
       "\n",
       "    .dataframe thead th {\n",
       "        text-align: right;\n",
       "    }\n",
       "</style>\n",
       "<table border=\"1\" class=\"dataframe\">\n",
       "  <thead>\n",
       "    <tr style=\"text-align: right;\">\n",
       "      <th></th>\n",
       "      <th>PassengerId</th>\n",
       "      <th>Survived</th>\n",
       "      <th>Pclass</th>\n",
       "      <th>Name</th>\n",
       "      <th>Sex</th>\n",
       "      <th>Age</th>\n",
       "      <th>SibSp</th>\n",
       "      <th>Parch</th>\n",
       "      <th>Ticket</th>\n",
       "      <th>Fare</th>\n",
       "      <th>Cabin</th>\n",
       "      <th>Embarked</th>\n",
       "    </tr>\n",
       "  </thead>\n",
       "  <tbody>\n",
       "    <tr>\n",
       "      <th>0</th>\n",
       "      <td>1</td>\n",
       "      <td>0</td>\n",
       "      <td>3</td>\n",
       "      <td>Braund, Mr. Owen Harris</td>\n",
       "      <td>male</td>\n",
       "      <td>22.0</td>\n",
       "      <td>1</td>\n",
       "      <td>0</td>\n",
       "      <td>A/5 21171</td>\n",
       "      <td>7.2500</td>\n",
       "      <td>NaN</td>\n",
       "      <td>S</td>\n",
       "    </tr>\n",
       "    <tr>\n",
       "      <th>1</th>\n",
       "      <td>2</td>\n",
       "      <td>1</td>\n",
       "      <td>1</td>\n",
       "      <td>Cumings, Mrs. John Bradley (Florence Briggs Th...</td>\n",
       "      <td>female</td>\n",
       "      <td>38.0</td>\n",
       "      <td>1</td>\n",
       "      <td>0</td>\n",
       "      <td>PC 17599</td>\n",
       "      <td>71.2833</td>\n",
       "      <td>C85</td>\n",
       "      <td>C</td>\n",
       "    </tr>\n",
       "    <tr>\n",
       "      <th>2</th>\n",
       "      <td>3</td>\n",
       "      <td>1</td>\n",
       "      <td>3</td>\n",
       "      <td>Heikkinen, Miss. Laina</td>\n",
       "      <td>female</td>\n",
       "      <td>26.0</td>\n",
       "      <td>0</td>\n",
       "      <td>0</td>\n",
       "      <td>STON/O2. 3101282</td>\n",
       "      <td>7.9250</td>\n",
       "      <td>NaN</td>\n",
       "      <td>S</td>\n",
       "    </tr>\n",
       "    <tr>\n",
       "      <th>3</th>\n",
       "      <td>4</td>\n",
       "      <td>1</td>\n",
       "      <td>1</td>\n",
       "      <td>Futrelle, Mrs. Jacques Heath (Lily May Peel)</td>\n",
       "      <td>female</td>\n",
       "      <td>35.0</td>\n",
       "      <td>1</td>\n",
       "      <td>0</td>\n",
       "      <td>113803</td>\n",
       "      <td>53.1000</td>\n",
       "      <td>C123</td>\n",
       "      <td>S</td>\n",
       "    </tr>\n",
       "    <tr>\n",
       "      <th>4</th>\n",
       "      <td>5</td>\n",
       "      <td>0</td>\n",
       "      <td>3</td>\n",
       "      <td>Allen, Mr. William Henry</td>\n",
       "      <td>male</td>\n",
       "      <td>35.0</td>\n",
       "      <td>0</td>\n",
       "      <td>0</td>\n",
       "      <td>373450</td>\n",
       "      <td>8.0500</td>\n",
       "      <td>NaN</td>\n",
       "      <td>S</td>\n",
       "    </tr>\n",
       "  </tbody>\n",
       "</table>\n",
       "</div>"
      ],
      "text/plain": [
       "   PassengerId  Survived  Pclass  \\\n",
       "0            1         0       3   \n",
       "1            2         1       1   \n",
       "2            3         1       3   \n",
       "3            4         1       1   \n",
       "4            5         0       3   \n",
       "\n",
       "                                                Name     Sex   Age  SibSp  \\\n",
       "0                            Braund, Mr. Owen Harris    male  22.0      1   \n",
       "1  Cumings, Mrs. John Bradley (Florence Briggs Th...  female  38.0      1   \n",
       "2                             Heikkinen, Miss. Laina  female  26.0      0   \n",
       "3       Futrelle, Mrs. Jacques Heath (Lily May Peel)  female  35.0      1   \n",
       "4                           Allen, Mr. William Henry    male  35.0      0   \n",
       "\n",
       "   Parch            Ticket     Fare Cabin Embarked  \n",
       "0      0         A/5 21171   7.2500   NaN        S  \n",
       "1      0          PC 17599  71.2833   C85        C  \n",
       "2      0  STON/O2. 3101282   7.9250   NaN        S  \n",
       "3      0            113803  53.1000  C123        S  \n",
       "4      0            373450   8.0500   NaN        S  "
      ]
     },
     "execution_count": 2,
     "metadata": {},
     "output_type": "execute_result"
    }
   ],
   "source": [
    "# Load the the train.csv file \n",
    "df_train = pd.read_csv(\"/kaggle/input/titanic/train.csv\")\n",
    "df_train.head()"
   ]
  },
  {
   "cell_type": "code",
   "execution_count": 3,
   "id": "c26c06c7",
   "metadata": {
    "execution": {
     "iopub.execute_input": "2024-04-13T18:31:16.455293Z",
     "iopub.status.busy": "2024-04-13T18:31:16.454871Z",
     "iopub.status.idle": "2024-04-13T18:31:16.480196Z",
     "shell.execute_reply": "2024-04-13T18:31:16.479062Z"
    },
    "papermill": {
     "duration": 0.035844,
     "end_time": "2024-04-13T18:31:16.483424",
     "exception": false,
     "start_time": "2024-04-13T18:31:16.447580",
     "status": "completed"
    },
    "tags": []
   },
   "outputs": [
    {
     "data": {
      "text/html": [
       "<div>\n",
       "<style scoped>\n",
       "    .dataframe tbody tr th:only-of-type {\n",
       "        vertical-align: middle;\n",
       "    }\n",
       "\n",
       "    .dataframe tbody tr th {\n",
       "        vertical-align: top;\n",
       "    }\n",
       "\n",
       "    .dataframe thead th {\n",
       "        text-align: right;\n",
       "    }\n",
       "</style>\n",
       "<table border=\"1\" class=\"dataframe\">\n",
       "  <thead>\n",
       "    <tr style=\"text-align: right;\">\n",
       "      <th></th>\n",
       "      <th>PassengerId</th>\n",
       "      <th>Pclass</th>\n",
       "      <th>Name</th>\n",
       "      <th>Sex</th>\n",
       "      <th>Age</th>\n",
       "      <th>SibSp</th>\n",
       "      <th>Parch</th>\n",
       "      <th>Ticket</th>\n",
       "      <th>Fare</th>\n",
       "      <th>Cabin</th>\n",
       "      <th>Embarked</th>\n",
       "    </tr>\n",
       "  </thead>\n",
       "  <tbody>\n",
       "    <tr>\n",
       "      <th>0</th>\n",
       "      <td>892</td>\n",
       "      <td>3</td>\n",
       "      <td>Kelly, Mr. James</td>\n",
       "      <td>male</td>\n",
       "      <td>34.5</td>\n",
       "      <td>0</td>\n",
       "      <td>0</td>\n",
       "      <td>330911</td>\n",
       "      <td>7.8292</td>\n",
       "      <td>NaN</td>\n",
       "      <td>Q</td>\n",
       "    </tr>\n",
       "    <tr>\n",
       "      <th>1</th>\n",
       "      <td>893</td>\n",
       "      <td>3</td>\n",
       "      <td>Wilkes, Mrs. James (Ellen Needs)</td>\n",
       "      <td>female</td>\n",
       "      <td>47.0</td>\n",
       "      <td>1</td>\n",
       "      <td>0</td>\n",
       "      <td>363272</td>\n",
       "      <td>7.0000</td>\n",
       "      <td>NaN</td>\n",
       "      <td>S</td>\n",
       "    </tr>\n",
       "    <tr>\n",
       "      <th>2</th>\n",
       "      <td>894</td>\n",
       "      <td>2</td>\n",
       "      <td>Myles, Mr. Thomas Francis</td>\n",
       "      <td>male</td>\n",
       "      <td>62.0</td>\n",
       "      <td>0</td>\n",
       "      <td>0</td>\n",
       "      <td>240276</td>\n",
       "      <td>9.6875</td>\n",
       "      <td>NaN</td>\n",
       "      <td>Q</td>\n",
       "    </tr>\n",
       "    <tr>\n",
       "      <th>3</th>\n",
       "      <td>895</td>\n",
       "      <td>3</td>\n",
       "      <td>Wirz, Mr. Albert</td>\n",
       "      <td>male</td>\n",
       "      <td>27.0</td>\n",
       "      <td>0</td>\n",
       "      <td>0</td>\n",
       "      <td>315154</td>\n",
       "      <td>8.6625</td>\n",
       "      <td>NaN</td>\n",
       "      <td>S</td>\n",
       "    </tr>\n",
       "    <tr>\n",
       "      <th>4</th>\n",
       "      <td>896</td>\n",
       "      <td>3</td>\n",
       "      <td>Hirvonen, Mrs. Alexander (Helga E Lindqvist)</td>\n",
       "      <td>female</td>\n",
       "      <td>22.0</td>\n",
       "      <td>1</td>\n",
       "      <td>1</td>\n",
       "      <td>3101298</td>\n",
       "      <td>12.2875</td>\n",
       "      <td>NaN</td>\n",
       "      <td>S</td>\n",
       "    </tr>\n",
       "  </tbody>\n",
       "</table>\n",
       "</div>"
      ],
      "text/plain": [
       "   PassengerId  Pclass                                          Name     Sex  \\\n",
       "0          892       3                              Kelly, Mr. James    male   \n",
       "1          893       3              Wilkes, Mrs. James (Ellen Needs)  female   \n",
       "2          894       2                     Myles, Mr. Thomas Francis    male   \n",
       "3          895       3                              Wirz, Mr. Albert    male   \n",
       "4          896       3  Hirvonen, Mrs. Alexander (Helga E Lindqvist)  female   \n",
       "\n",
       "    Age  SibSp  Parch   Ticket     Fare Cabin Embarked  \n",
       "0  34.5      0      0   330911   7.8292   NaN        Q  \n",
       "1  47.0      1      0   363272   7.0000   NaN        S  \n",
       "2  62.0      0      0   240276   9.6875   NaN        Q  \n",
       "3  27.0      0      0   315154   8.6625   NaN        S  \n",
       "4  22.0      1      1  3101298  12.2875   NaN        S  "
      ]
     },
     "execution_count": 3,
     "metadata": {},
     "output_type": "execute_result"
    }
   ],
   "source": [
    "df_test = pd.read_csv(\"/kaggle/input/titanic/test.csv\")\n",
    "df_test.head()"
   ]
  },
  {
   "cell_type": "markdown",
   "id": "57d7eecd",
   "metadata": {
    "papermill": {
     "duration": 0.005622,
     "end_time": "2024-04-13T18:31:16.495306",
     "exception": false,
     "start_time": "2024-04-13T18:31:16.489684",
     "status": "completed"
    },
    "tags": []
   },
   "source": [
    "## Calculing the Percantage of Women & Men who Survived"
   ]
  },
  {
   "cell_type": "markdown",
   "id": "808079ad",
   "metadata": {
    "papermill": {
     "duration": 0.005886,
     "end_time": "2024-04-13T18:31:16.507111",
     "exception": false,
     "start_time": "2024-04-13T18:31:16.501225",
     "status": "completed"
    },
    "tags": []
   },
   "source": [
    "We are calculating the percentage of women who survived in a dataset. It assumes that there is a DataFrame called df_train with a column named \"Sex\" indicating the gender of each passenger and a column named \"Survived\" indicating whether each passenger survived or not.\n"
   ]
  },
  {
   "cell_type": "code",
   "execution_count": 4,
   "id": "c9e03752",
   "metadata": {
    "execution": {
     "iopub.execute_input": "2024-04-13T18:31:16.521164Z",
     "iopub.status.busy": "2024-04-13T18:31:16.520421Z",
     "iopub.status.idle": "2024-04-13T18:31:16.808349Z",
     "shell.execute_reply": "2024-04-13T18:31:16.807253Z"
    },
    "papermill": {
     "duration": 0.299637,
     "end_time": "2024-04-13T18:31:16.812628",
     "exception": false,
     "start_time": "2024-04-13T18:31:16.512991",
     "status": "completed"
    },
    "tags": []
   },
   "outputs": [
    {
     "data": {
      "image/png": "[encoded data removed]",
      "text/plain": [
       "<Figure size 640x480 with 1 Axes>"
      ]
     },
     "metadata": {},
     "output_type": "display_data"
    },
    {
     "name": "stdout",
     "output_type": "stream",
     "text": [
      "% of women who survived: 74.20382165605095\n"
     ]
    }
   ],
   "source": [
    "import matplotlib.pyplot as plt\n",
    "\n",
    "# Select the rows in the 'df_train' DataFrame where the 'Sex' column is equal to 'female'\n",
    "women = df_train.loc[df_train.Sex == 'female']\n",
    "\n",
    "# Extract the 'Survived' column from the selected rows, representing survival status of female passengers\n",
    "survived_women = women[\"Survived\"]\n",
    "\n",
    "# Calculate the sum of values in the 'survived_women' column (number of female passengers who survived)\n",
    "survived_count = sum(survived_women)\n",
    "\n",
    "# Calculate the total number of female passengers\n",
    "total_women = len(women)\n",
    "\n",
    "# Calculate the percentage of women who survived\n",
    "rate_women = (survived_count / total_women) * 100\n",
    "\n",
    "# Plot the histogram\n",
    "plt.bar(['Survived', 'Did not survive'], [survived_count, total_women - survived_count])\n",
    "plt.xlabel('Survival Status')\n",
    "plt.ylabel('Count')\n",
    "plt.title('Survival Status of Female Passengers')\n",
    "plt.show()\n",
    "\n",
    "\n",
    "# Print the percentage of women who survived\n",
    "print(\"% of women who survived:\", rate_women)"
   ]
  },
  {
   "cell_type": "code",
   "execution_count": 5,
   "id": "2f818d16",
   "metadata": {
    "execution": {
     "iopub.execute_input": "2024-04-13T18:31:16.828819Z",
     "iopub.status.busy": "2024-04-13T18:31:16.828180Z",
     "iopub.status.idle": "2024-04-13T18:31:16.840029Z",
     "shell.execute_reply": "2024-04-13T18:31:16.838401Z"
    },
    "papermill": {
     "duration": 0.023167,
     "end_time": "2024-04-13T18:31:16.842915",
     "exception": false,
     "start_time": "2024-04-13T18:31:16.819748",
     "status": "completed"
    },
    "tags": []
   },
   "outputs": [
    {
     "name": "stdout",
     "output_type": "stream",
     "text": [
      "% of women who survived: 74.20382165605095\n"
     ]
    }
   ],
   "source": [
    "# Select the rows in the 'df_train' DataFrame where the 'Sex' column is equal to 'female'\n",
    "women = df_train.loc[df_train.Sex == 'female']\n",
    "\n",
    "# Extract the 'Survived' column from the selected rows, representing survival status of female passengers\n",
    "survived_women = women[\"Survived\"]\n",
    "\n",
    "# Calculate the sum of values in the 'survived_women' column (number of female passengers who survived)\n",
    "survived_count = sum(survived_women)\n",
    "\n",
    "# Calculate the total number of female passengers\n",
    "total_women = len(women)\n",
    "\n",
    "# Calculate the percentage of women who survived\n",
    "rate_women = (survived_count / total_women) * 100\n",
    "\n",
    "# Print the percentage of women who survived\n",
    "print(\"% of women who survived:\", rate_women)"
   ]
  },
  {
   "cell_type": "markdown",
   "id": "d72aac3a",
   "metadata": {
    "papermill": {
     "duration": 0.00678,
     "end_time": "2024-04-13T18:31:16.856594",
     "exception": false,
     "start_time": "2024-04-13T18:31:16.849814",
     "status": "completed"
    },
    "tags": []
   },
   "source": [
    "We are calculating the percentage of men  who survived in a dataset. It assumes that there is a DataFrame called df_train with a column named \"Sex\" indicating the gender of each passenger and a column named \"Survived\" indicating whether each passenger survived or not."
   ]
  },
  {
   "cell_type": "code",
   "execution_count": 6,
   "id": "1b6dc10a",
   "metadata": {
    "execution": {
     "iopub.execute_input": "2024-04-13T18:31:16.871947Z",
     "iopub.status.busy": "2024-04-13T18:31:16.871523Z",
     "iopub.status.idle": "2024-04-13T18:31:17.120646Z",
     "shell.execute_reply": "2024-04-13T18:31:17.118819Z"
    },
    "papermill": {
     "duration": 0.260102,
     "end_time": "2024-04-13T18:31:17.123410",
     "exception": false,
     "start_time": "2024-04-13T18:31:16.863308",
     "status": "completed"
    },
    "tags": []
   },
   "outputs": [
    {
     "name": "stdout",
     "output_type": "stream",
     "text": [
      "% of men who survived: 18.890814558058924\n"
     ]
    },
    {
     "data": {
      "image/png": "[encoded data removed]",
      "text/plain": [
       "<Figure size 640x480 with 1 Axes>"
      ]
     },
     "metadata": {},
     "output_type": "display_data"
    },
    {
     "name": "stdout",
     "output_type": "stream",
     "text": [
      "% of men who survived: 18.890814558058924\n"
     ]
    }
   ],
   "source": [
    "# Select the rows in the 'df_train' DataFrame where the 'Sex' column is equal to 'male'\n",
    "men = df_train.loc[df_train.Sex == 'male']\n",
    "\n",
    "# Extract the 'Survived' column from the selected rows, representing survival status of male passengers\n",
    "survived_men = men[\"Survived\"]\n",
    "\n",
    "# Calculate the sum of values in the 'survived_men' column (number of male passengers who survived)\n",
    "survived_count = sum(survived_men)\n",
    "\n",
    "# Calculate the total number of male passengers\n",
    "total_men = len(men)\n",
    "\n",
    "# Calculate the percentage of men who survived\n",
    "rate_men = (survived_count / total_men) * 100\n",
    "\n",
    "# Print the percentage of men who survived\n",
    "print(\"% of men who survived:\", rate_men)\n",
    "\n",
    "# Plot the histogram\n",
    "plt.bar(['Survived', 'Did not survive'], [survived_count, total_men - survived_count])\n",
    "plt.xlabel('Survival Status')\n",
    "plt.ylabel('Count')\n",
    "plt.title('Survival Status of Male Passengers')\n",
    "plt.show()\n",
    "\n",
    "\n",
    "# Print the percentage of women who survived\n",
    "print(\"% of men who survived:\", rate_men)"
   ]
  },
  {
   "cell_type": "markdown",
   "id": "a3f338dc",
   "metadata": {
    "papermill": {
     "duration": 0.007012,
     "end_time": "2024-04-13T18:31:17.137944",
     "exception": false,
     "start_time": "2024-04-13T18:31:17.130932",
     "status": "completed"
    },
    "tags": []
   },
   "source": [
    "## Applying Random Forest Model for Prediction"
   ]
  },
  {
   "cell_type": "markdown",
   "id": "724e91ae",
   "metadata": {
    "papermill": {
     "duration": 0.007352,
     "end_time": "2024-04-13T18:31:17.152431",
     "exception": false,
     "start_time": "2024-04-13T18:31:17.145079",
     "status": "completed"
    },
    "tags": []
   },
   "source": [
    "A Random Forest model is an ensemble learning algorithm commonly used for classification and regression tasks in machine learning. It combines multiple decision trees, each trained on a random subset of the original dataset, to make predictions. By aggregating the predictions of individual trees, the Random Forest model produces a final prediction. It is known for its ability to handle high-dimensional data, handle missing values and outliers, and provide good generalization performance. So we are going to apply this model on gender based on the survival (Male or Female).\n",
    "\n"
   ]
  },
  {
   "cell_type": "code",
   "execution_count": 7,
   "id": "219c2132",
   "metadata": {
    "execution": {
     "iopub.execute_input": "2024-04-13T18:31:17.168384Z",
     "iopub.status.busy": "2024-04-13T18:31:17.168000Z",
     "iopub.status.idle": "2024-04-13T18:31:19.814062Z",
     "shell.execute_reply": "2024-04-13T18:31:19.813138Z"
    },
    "papermill": {
     "duration": 2.656893,
     "end_time": "2024-04-13T18:31:19.816477",
     "exception": false,
     "start_time": "2024-04-13T18:31:17.159584",
     "status": "completed"
    },
    "tags": []
   },
   "outputs": [
    {
     "data": {
      "image/png": "[encoded data removed]",
      "text/plain": [
       "<Figure size 640x480 with 1 Axes>"
      ]
     },
     "metadata": {},
     "output_type": "display_data"
    },
    {
     "name": "stdout",
     "output_type": "stream",
     "text": [
      "Your submission was successfully saved!\n"
     ]
    }
   ],
   "source": [
    "import matplotlib.pyplot as plt\n",
    "\n",
    "# Import the RandomForestClassifier class from the scikit-learn library\n",
    "from sklearn.ensemble import RandomForestClassifier\n",
    "\n",
    "# Extract the target variable \"Survived\" from the df_train DataFrame\n",
    "target = df_train[\"Survived\"]\n",
    "\n",
    "# Define a list of features to be used as input for the model\n",
    "features = [\"Pclass\", \"Sex\", \"SibSp\", \"Parch\"]\n",
    "\n",
    "# Create the feature matrix X by converting categorical variables into numeric dummy variables\n",
    "features_matrix = pd.get_dummies(df_train[features])\n",
    "\n",
    "# Create the feature matrix X_test for the test data\n",
    "test_features_matrix = pd.get_dummies(df_test[features])\n",
    "\n",
    "# Create a Random Forest classifier object with specified parameters\n",
    "model = RandomForestClassifier(n_estimators=100, max_depth=5, random_state=1)\n",
    "\n",
    "# Train the model using the feature matrix X and target variable target\n",
    "model.fit(features_matrix, target)\n",
    "\n",
    "# Make predictions on the test data using the trained model\n",
    "predictions = model.predict(test_features_matrix)\n",
    "\n",
    "# Create a DataFrame with passenger IDs and predicted survival outcomes\n",
    "output = pd.DataFrame({'PassengerId': df_test.PassengerId, 'Survived': predictions})\n",
    "\n",
    "# Visualize the predicted survival outcomes\n",
    "survived_count = output['Survived'].value_counts()\n",
    "survived_count.plot(kind='bar')\n",
    "plt.xlabel('Survival Outcome')\n",
    "plt.ylabel('Count')\n",
    "plt.title('Predicted Survival Outcomes')\n",
    "plt.xticks(rotation=0)\n",
    "plt.show()\n",
    "\n",
    "# Save the DataFrame as a CSV file without including the index column\n",
    "output.to_csv('submission.csv', index=False)\n",
    "# Print a success message\n",
    "print(\"Your submission was successfully saved!\")"
   ]
  },
  {
   "cell_type": "code",
   "execution_count": null,
   "id": "a3e8ae34",
   "metadata": {
    "papermill": {
     "duration": 0.007898,
     "end_time": "2024-04-13T18:31:19.832179",
     "exception": false,
     "start_time": "2024-04-13T18:31:19.824281",
     "status": "completed"
    },
    "tags": []
   },
   "outputs": [],
   "source": []
  }
 ],
 "metadata": {
  "kaggle": {
   "accelerator": "none",
   "dataSources": [
    {
     "databundleVersionId": 26502,
     "sourceId": 3136,
     "sourceType": "competition"
    }
   ],
   "dockerImageVersionId": 30684,
   "isGpuEnabled": false,
   "isInternetEnabled": true,
   "language": "python",
   "sourceType": "notebook"
  },
  "kernelspec": {
   "display_name": "Python 3",
   "language": "python",
   "name": "python3"
  },
  "language_info": {
   "codemirror_mode": {
    "name": "ipython",
    "version": 3
   },
   "file_extension": ".py",
   "mimetype": "text/x-python",
   "name": "python",
   "nbconvert_exporter": "python",
   "pygments_lexer": "ipython3",
   "version": "3.10.13"
  },
  "papermill": {
   "default_parameters": {},
   "duration": 8.431379,
   "end_time": "2024-04-13T18:31:20.462554",
   "environment_variables": {},
   "exception": null,
   "input_path": "__notebook__.ipynb",
   "output_path": "__notebook__.ipynb",
   "parameters": {},
   "start_time": "2024-04-13T18:31:12.031175",
   "version": "2.5.0"
  }
 },
 "nbformat": 4,
 "nbformat_minor": 5
}
